{
    "cells": [
        {
            "cell_type": "markdown",
            "id": "1de4634b",
            "metadata": {},
            "source": "# Qiskit Runtime on IBM Cloud"
        },
        {
            "cell_type": "markdown",
            "id": "5affe56b",
            "metadata": {},
            "source": "Qiskit Runtime is now part of the IBM Quantum Services on IBM Cloud. To use this service, you'll need to create an IBM Cloud account and a quantum service instance. [This guide](https://cloud.ibm.com/docs/account?topic=account-account-getting-started) contains step-by-step instructions on setting up the account and [this page](https://cloud.ibm.com/docs/quantum-computing?topic=quantum-computing-quickstart) explains how to create a service instance, including directions to find your IBM Cloud API key and Cloud Resource Name (CRN), which you will need later in this tutorial. \n\n\n\nThis tutorial assumes that you know how to use Qiskit, including using it to create circuits. If you are not familiar with Qiskit, the [Qiskit Textbook](https://qiskit.org/textbook/preface.html) is a great resource to learn about both Qiskit and quantum computation in general. "
        },
        {
            "cell_type": "markdown",
            "id": "08ef9a5d",
            "metadata": {},
            "source": "After following the guide above you should have:\n\n - IBM Cloud API key.\n - IBM Cloud CRN.\n\nYou will need this info later in this tutorial to authenticate in the service."
        },
        {
            "cell_type": "markdown",
            "id": "661260c9",
            "metadata": {},
            "source": "# qiskit-ibm-runtime package"
        },
        {
            "cell_type": "markdown",
            "id": "78c52686",
            "metadata": {},
            "source": "First, you need to install Qiskit if you haven't it already. Once you have an IBM Cloud account and service instance set up, you can use `qiskit-ibm-runtime` to access Qiskit Runtime on IBM Cloud. `qiskit-ibm-runtime` provides the interface to interact with Qiskit Runtime. You can, for example, use it to query and execute runtime programs."
        },
        {
            "cell_type": "markdown",
            "id": "23aac118",
            "metadata": {},
            "source": "### Before you begin\n\nMake sure you have:\n\n- [An IBM Cloud account](https://cloud.ibm.com/docs/account?topic=account-account-getting-started)\n- [QiSkit runtime service instance](https://cloud.ibm.com/docs/quantum-computing?topic=quantum-computing-quickstart)"
        },
        {
            "cell_type": "markdown",
            "id": "97412986",
            "metadata": {},
            "source": "## Installation"
        },
        {
            "cell_type": "markdown",
            "id": "f960fc45",
            "metadata": {},
            "source": "You can install `qiskit` and the `qiskit-ibm-runtime` package using pip:\n\n```\npip install -U qiskit\npip install -U qiskit-ibm-runtime\n```"
        },
        {
            "cell_type": "code",
            "execution_count": 1,
            "id": "74254b0e",
            "metadata": {
                "scrolled": true
            },
            "outputs": [
                {
                    "name": "stdout",
                    "output_type": "stream",
                    "text": "Collecting qiskit\n  Downloading qiskit-0.37.1.tar.gz (13 kB)\nCollecting qiskit-terra==0.21.1\n  Downloading qiskit_terra-0.21.1-cp39-cp39-manylinux_2_17_x86_64.manylinux2014_x86_64.whl (6.7 MB)\n\u001b[K     |\u2588\u2588\u2588\u2588\u2588\u2588\u2588\u2588\u2588\u2588\u2588\u2588\u2588\u2588\u2588\u2588\u2588\u2588\u2588\u2588\u2588\u2588\u2588\u2588\u2588\u2588\u2588\u2588\u2588\u2588\u2588\u2588| 6.7 MB 35.2 MB/s eta 0:00:01\n\u001b[?25hCollecting qiskit-aer==0.10.4\n  Downloading qiskit_aer-0.10.4-cp39-cp39-manylinux_2_12_x86_64.manylinux2010_x86_64.whl (18.0 MB)\n\u001b[K     |\u2588\u2588\u2588\u2588\u2588\u2588\u2588\u2588\u2588\u2588\u2588\u2588\u2588\u2588\u2588\u2588\u2588\u2588\u2588\u2588\u2588\u2588\u2588\u2588\u2588\u2588\u2588\u2588\u2588\u2588\u2588\u2588| 18.0 MB 6.0 MB/s eta 0:00:01\n\u001b[?25hCollecting qiskit-ibmq-provider==0.19.2\n  Downloading qiskit_ibmq_provider-0.19.2-py3-none-any.whl (240 kB)\n\u001b[K     |\u2588\u2588\u2588\u2588\u2588\u2588\u2588\u2588\u2588\u2588\u2588\u2588\u2588\u2588\u2588\u2588\u2588\u2588\u2588\u2588\u2588\u2588\u2588\u2588\u2588\u2588\u2588\u2588\u2588\u2588\u2588\u2588| 240 kB 71.4 MB/s eta 0:00:01\n\u001b[?25hRequirement already satisfied: scipy>=1.0 in /opt/conda/envs/Python-3.9/lib/python3.9/site-packages (from qiskit-aer==0.10.4->qiskit) (1.7.3)\nRequirement already satisfied: numpy>=1.16.3 in /opt/conda/envs/Python-3.9/lib/python3.9/site-packages (from qiskit-aer==0.10.4->qiskit) (1.20.3)\nRequirement already satisfied: urllib3>=1.21.1 in /opt/conda/envs/Python-3.9/lib/python3.9/site-packages (from qiskit-ibmq-provider==0.19.2->qiskit) (1.26.7)\nCollecting websocket-client>=1.0.1\n  Downloading websocket_client-1.3.3-py3-none-any.whl (54 kB)\n\u001b[K     |\u2588\u2588\u2588\u2588\u2588\u2588\u2588\u2588\u2588\u2588\u2588\u2588\u2588\u2588\u2588\u2588\u2588\u2588\u2588\u2588\u2588\u2588\u2588\u2588\u2588\u2588\u2588\u2588\u2588\u2588\u2588\u2588| 54 kB 7.9 MB/s  eta 0:00:01\n\u001b[?25hRequirement already satisfied: requests>=2.19 in /opt/conda/envs/Python-3.9/lib/python3.9/site-packages (from qiskit-ibmq-provider==0.19.2->qiskit) (2.26.0)\nRequirement already satisfied: python-dateutil>=2.8.0 in /opt/conda/envs/Python-3.9/lib/python3.9/site-packages (from qiskit-ibmq-provider==0.19.2->qiskit) (2.8.2)\nCollecting requests-ntlm>=1.1.0\n  Downloading requests_ntlm-1.1.0-py2.py3-none-any.whl (5.7 kB)\nCollecting websockets>=10.0\n  Downloading websockets-10.3-cp39-cp39-manylinux_2_5_x86_64.manylinux1_x86_64.manylinux_2_12_x86_64.manylinux2010_x86_64.whl (111 kB)\n\u001b[K     |\u2588\u2588\u2588\u2588\u2588\u2588\u2588\u2588\u2588\u2588\u2588\u2588\u2588\u2588\u2588\u2588\u2588\u2588\u2588\u2588\u2588\u2588\u2588\u2588\u2588\u2588\u2588\u2588\u2588\u2588\u2588\u2588| 111 kB 61.7 MB/s eta 0:00:01\n\u001b[?25hCollecting retworkx>=0.11.0\n  Downloading retworkx-0.11.0-cp39-cp39-manylinux_2_5_x86_64.manylinux1_x86_64.manylinux_2_12_x86_64.manylinux2010_x86_64.whl (1.6 MB)\n\u001b[K     |\u2588\u2588\u2588\u2588\u2588\u2588\u2588\u2588\u2588\u2588\u2588\u2588\u2588\u2588\u2588\u2588\u2588\u2588\u2588\u2588\u2588\u2588\u2588\u2588\u2588\u2588\u2588\u2588\u2588\u2588\u2588\u2588| 1.6 MB 67.8 MB/s eta 0:00:01\n\u001b[?25hRequirement already satisfied: sympy>=1.3 in /opt/conda/envs/Python-3.9/lib/python3.9/site-packages (from qiskit-terra==0.21.1->qiskit) (1.9)\nRequirement already satisfied: dill>=0.3 in /opt/conda/envs/Python-3.9/lib/python3.9/site-packages (from qiskit-terra==0.21.1->qiskit) (0.3.4)\nCollecting stevedore>=3.0.0\n  Downloading stevedore-4.0.0-py3-none-any.whl (49 kB)\n\u001b[K     |\u2588\u2588\u2588\u2588\u2588\u2588\u2588\u2588\u2588\u2588\u2588\u2588\u2588\u2588\u2588\u2588\u2588\u2588\u2588\u2588\u2588\u2588\u2588\u2588\u2588\u2588\u2588\u2588\u2588\u2588\u2588\u2588| 49 kB 12.9 MB/s eta 0:00:01\n\u001b[?25hRequirement already satisfied: psutil>=5 in /opt/conda/envs/Python-3.9/lib/python3.9/site-packages (from qiskit-terra==0.21.1->qiskit) (5.8.0)\nCollecting tweedledum<2.0,>=1.1\n  Downloading tweedledum-1.1.1-cp39-cp39-manylinux_2_12_x86_64.manylinux2010_x86_64.whl (930 kB)\n\u001b[K     |\u2588\u2588\u2588\u2588\u2588\u2588\u2588\u2588\u2588\u2588\u2588\u2588\u2588\u2588\u2588\u2588\u2588\u2588\u2588\u2588\u2588\u2588\u2588\u2588\u2588\u2588\u2588\u2588\u2588\u2588\u2588\u2588| 930 kB 71.1 MB/s eta 0:00:01\n\u001b[?25hCollecting ply>=3.10\n  Downloading ply-3.11-py2.py3-none-any.whl (49 kB)\n\u001b[K     |\u2588\u2588\u2588\u2588\u2588\u2588\u2588\u2588\u2588\u2588\u2588\u2588\u2588\u2588\u2588\u2588\u2588\u2588\u2588\u2588\u2588\u2588\u2588\u2588\u2588\u2588\u2588\u2588\u2588\u2588\u2588\u2588| 49 kB 17.6 MB/s eta 0:00:01\n\u001b[?25hCollecting symengine>=0.9\n  Downloading symengine-0.9.2-cp39-cp39-manylinux2010_x86_64.whl (37.5 MB)\n\u001b[K     |\u2588\u2588\u2588\u2588\u2588\u2588\u2588\u2588\u2588\u2588\u2588\u2588\u2588\u2588\u2588\u2588\u2588\u2588\u2588\u2588\u2588\u2588\u2588\u2588\u2588\u2588\u2588\u2588\u2588\u2588\u2588\u2588| 37.5 MB 26.8 MB/s eta 0:00:01\n\u001b[?25hRequirement already satisfied: six>=1.5 in /opt/conda/envs/Python-3.9/lib/python3.9/site-packages (from python-dateutil>=2.8.0->qiskit-ibmq-provider==0.19.2->qiskit) (1.15.0)\nRequirement already satisfied: idna<4,>=2.5 in /opt/conda/envs/Python-3.9/lib/python3.9/site-packages (from requests>=2.19->qiskit-ibmq-provider==0.19.2->qiskit) (3.3)\nRequirement already satisfied: certifi>=2017.4.17 in /opt/conda/envs/Python-3.9/lib/python3.9/site-packages (from requests>=2.19->qiskit-ibmq-provider==0.19.2->qiskit) (2022.6.15)\nRequirement already satisfied: charset-normalizer~=2.0.0 in /opt/conda/envs/Python-3.9/lib/python3.9/site-packages (from requests>=2.19->qiskit-ibmq-provider==0.19.2->qiskit) (2.0.4)\nRequirement already satisfied: cryptography>=1.3 in /opt/conda/envs/Python-3.9/lib/python3.9/site-packages (from requests-ntlm>=1.1.0->qiskit-ibmq-provider==0.19.2->qiskit) (3.4.8)\nCollecting ntlm-auth>=1.0.2\n  Downloading ntlm_auth-1.5.0-py2.py3-none-any.whl (29 kB)\nRequirement already satisfied: cffi>=1.12 in /opt/conda/envs/Python-3.9/lib/python3.9/site-packages (from cryptography>=1.3->requests-ntlm>=1.1.0->qiskit-ibmq-provider==0.19.2->qiskit) (1.14.6)\nRequirement already satisfied: pycparser in /opt/conda/envs/Python-3.9/lib/python3.9/site-packages (from cffi>=1.12->cryptography>=1.3->requests-ntlm>=1.1.0->qiskit-ibmq-provider==0.19.2->qiskit) (2.21)\nCollecting pbr!=2.1.0,>=2.0.0\n  Downloading pbr-5.9.0-py2.py3-none-any.whl (112 kB)\n\u001b[K     |\u2588\u2588\u2588\u2588\u2588\u2588\u2588\u2588\u2588\u2588\u2588\u2588\u2588\u2588\u2588\u2588\u2588\u2588\u2588\u2588\u2588\u2588\u2588\u2588\u2588\u2588\u2588\u2588\u2588\u2588\u2588\u2588| 112 kB 79.8 MB/s eta 0:00:01\n\u001b[?25hRequirement already satisfied: mpmath>=0.19 in /opt/conda/envs/Python-3.9/lib/python3.9/site-packages (from sympy>=1.3->qiskit-terra==0.21.1->qiskit) (1.2.1)\nBuilding wheels for collected packages: qiskit\n  Building wheel for qiskit (setup.py) ... \u001b[?25ldone\n\u001b[?25h  Created wheel for qiskit: filename=qiskit-0.37.1-py3-none-any.whl size=12067 sha256=e28800843250700554694e27180f1fff4018cd9572747d0c08d20b51993c12cf\n  Stored in directory: /tmp/wsuser/.cache/pip/wheels/fb/40/c5/91f30b4b9c9db7e4b8e099445d70e454287e4b16d182d04472\nSuccessfully built qiskit\nInstalling collected packages: pbr, tweedledum, symengine, stevedore, retworkx, ply, ntlm-auth, websockets, websocket-client, requests-ntlm, qiskit-terra, qiskit-ibmq-provider, qiskit-aer, qiskit\nSuccessfully installed ntlm-auth-1.5.0 pbr-5.9.0 ply-3.11 qiskit-0.37.1 qiskit-aer-0.10.4 qiskit-ibmq-provider-0.19.2 qiskit-terra-0.21.1 requests-ntlm-1.1.0 retworkx-0.11.0 stevedore-4.0.0 symengine-0.9.2 tweedledum-1.1.1 websocket-client-1.3.3 websockets-10.3\nCollecting qiskit-ibm-runtime\n  Downloading qiskit_ibm_runtime-0.6.2-py3-none-any.whl (173 kB)\n\u001b[K     |\u2588\u2588\u2588\u2588\u2588\u2588\u2588\u2588\u2588\u2588\u2588\u2588\u2588\u2588\u2588\u2588\u2588\u2588\u2588\u2588\u2588\u2588\u2588\u2588\u2588\u2588\u2588\u2588\u2588\u2588\u2588\u2588| 173 kB 25.5 MB/s eta 0:00:01\n\u001b[?25hRequirement already satisfied: websocket-client>=1.0.1 in /opt/conda/envs/Python-3.9/lib/python3.9/site-packages (from qiskit-ibm-runtime) (1.3.3)\nRequirement already satisfied: numpy>=1.13 in /opt/conda/envs/Python-3.9/lib/python3.9/site-packages (from qiskit-ibm-runtime) (1.20.3)\nRequirement already satisfied: python-dateutil>=2.8.0 in /opt/conda/envs/Python-3.9/lib/python3.9/site-packages (from qiskit-ibm-runtime) (2.8.2)\nCollecting ibm-platform-services>=0.22.6\n  Downloading ibm-platform-services-0.27.0.tar.gz (243 kB)\n\u001b[K     |\u2588\u2588\u2588\u2588\u2588\u2588\u2588\u2588\u2588\u2588\u2588\u2588\u2588\u2588\u2588\u2588\u2588\u2588\u2588\u2588\u2588\u2588\u2588\u2588\u2588\u2588\u2588\u2588\u2588\u2588\u2588\u2588| 243 kB 64.1 MB/s eta 0:00:01\n\u001b[?25hRequirement already satisfied: qiskit-terra>=0.21.0 in /opt/conda/envs/Python-3.9/lib/python3.9/site-packages (from qiskit-ibm-runtime) (0.21.1)\nRequirement already satisfied: requests-ntlm>=1.1.0 in /opt/conda/envs/Python-3.9/lib/python3.9/site-packages (from qiskit-ibm-runtime) (1.1.0)\nRequirement already satisfied: requests>=2.19 in /opt/conda/envs/Python-3.9/lib/python3.9/site-packages (from qiskit-ibm-runtime) (2.26.0)\nRequirement already satisfied: urllib3>=1.21.1 in /opt/conda/envs/Python-3.9/lib/python3.9/site-packages (from qiskit-ibm-runtime) (1.26.7)\nCollecting typing-extensions>=4.0.0\n  Downloading typing_extensions-4.3.0-py3-none-any.whl (25 kB)\nCollecting ibm_cloud_sdk_core<4.0.0,>=3.15.2\n  Downloading ibm_cloud_sdk_core-3.16.0-py3-none-any.whl (83 kB)\n\u001b[K     |\u2588\u2588\u2588\u2588\u2588\u2588\u2588\u2588\u2588\u2588\u2588\u2588\u2588\u2588\u2588\u2588\u2588\u2588\u2588\u2588\u2588\u2588\u2588\u2588\u2588\u2588\u2588\u2588\u2588\u2588\u2588\u2588| 83 kB 5.3 MB/s  eta 0:00:01\n\u001b[?25hRequirement already satisfied: PyJWT<3.0.0,>=2.4.0 in /opt/conda/envs/Python-3.9/lib/python3.9/site-packages (from ibm_cloud_sdk_core<4.0.0,>=3.15.2->ibm-platform-services>=0.22.6->qiskit-ibm-runtime) (2.4.0)\nRequirement already satisfied: six>=1.5 in /opt/conda/envs/Python-3.9/lib/python3.9/site-packages (from python-dateutil>=2.8.0->qiskit-ibm-runtime) (1.15.0)\nRequirement already satisfied: tweedledum<2.0,>=1.1 in /opt/conda/envs/Python-3.9/lib/python3.9/site-packages (from qiskit-terra>=0.21.0->qiskit-ibm-runtime) (1.1.1)\nRequirement already satisfied: stevedore>=3.0.0 in /opt/conda/envs/Python-3.9/lib/python3.9/site-packages (from qiskit-terra>=0.21.0->qiskit-ibm-runtime) (4.0.0)\nRequirement already satisfied: symengine>=0.9 in /opt/conda/envs/Python-3.9/lib/python3.9/site-packages (from qiskit-terra>=0.21.0->qiskit-ibm-runtime) (0.9.2)\nRequirement already satisfied: ply>=3.10 in /opt/conda/envs/Python-3.9/lib/python3.9/site-packages (from qiskit-terra>=0.21.0->qiskit-ibm-runtime) (3.11)\nRequirement already satisfied: sympy>=1.3 in /opt/conda/envs/Python-3.9/lib/python3.9/site-packages (from qiskit-terra>=0.21.0->qiskit-ibm-runtime) (1.9)\nRequirement already satisfied: psutil>=5 in /opt/conda/envs/Python-3.9/lib/python3.9/site-packages (from qiskit-terra>=0.21.0->qiskit-ibm-runtime) (5.8.0)\nRequirement already satisfied: scipy>=1.5 in /opt/conda/envs/Python-3.9/lib/python3.9/site-packages (from qiskit-terra>=0.21.0->qiskit-ibm-runtime) (1.7.3)\nRequirement already satisfied: retworkx>=0.11.0 in /opt/conda/envs/Python-3.9/lib/python3.9/site-packages (from qiskit-terra>=0.21.0->qiskit-ibm-runtime) (0.11.0)\nRequirement already satisfied: dill>=0.3 in /opt/conda/envs/Python-3.9/lib/python3.9/site-packages (from qiskit-terra>=0.21.0->qiskit-ibm-runtime) (0.3.4)\nRequirement already satisfied: idna<4,>=2.5 in /opt/conda/envs/Python-3.9/lib/python3.9/site-packages (from requests>=2.19->qiskit-ibm-runtime) (3.3)\nRequirement already satisfied: certifi>=2017.4.17 in /opt/conda/envs/Python-3.9/lib/python3.9/site-packages (from requests>=2.19->qiskit-ibm-runtime) (2022.6.15)\nRequirement already satisfied: charset-normalizer~=2.0.0 in /opt/conda/envs/Python-3.9/lib/python3.9/site-packages (from requests>=2.19->qiskit-ibm-runtime) (2.0.4)\nRequirement already satisfied: ntlm-auth>=1.0.2 in /opt/conda/envs/Python-3.9/lib/python3.9/site-packages (from requests-ntlm>=1.1.0->qiskit-ibm-runtime) (1.5.0)\nRequirement already satisfied: cryptography>=1.3 in /opt/conda/envs/Python-3.9/lib/python3.9/site-packages (from requests-ntlm>=1.1.0->qiskit-ibm-runtime) (3.4.8)\nRequirement already satisfied: cffi>=1.12 in /opt/conda/envs/Python-3.9/lib/python3.9/site-packages (from cryptography>=1.3->requests-ntlm>=1.1.0->qiskit-ibm-runtime) (1.14.6)\nRequirement already satisfied: pycparser in /opt/conda/envs/Python-3.9/lib/python3.9/site-packages (from cffi>=1.12->cryptography>=1.3->requests-ntlm>=1.1.0->qiskit-ibm-runtime) (2.21)\nRequirement already satisfied: pbr!=2.1.0,>=2.0.0 in /opt/conda/envs/Python-3.9/lib/python3.9/site-packages (from stevedore>=3.0.0->qiskit-terra>=0.21.0->qiskit-ibm-runtime) (5.9.0)\nRequirement already satisfied: mpmath>=0.19 in /opt/conda/envs/Python-3.9/lib/python3.9/site-packages (from sympy>=1.3->qiskit-terra>=0.21.0->qiskit-ibm-runtime) (1.2.1)\nBuilding wheels for collected packages: ibm-platform-services\n  Building wheel for ibm-platform-services (setup.py) ... \u001b[?25ldone\n\u001b[?25h  Created wheel for ibm-platform-services: filename=ibm_platform_services-0.27.0-py3-none-any.whl size=259991 sha256=1657e6ea854d6b25f7e62c529817af2d31e0ca5be732995231c67405ecb9167b\n  Stored in directory: /tmp/wsuser/.cache/pip/wheels/cd/69/2f/cb9800306a99e5df819f86cb6619cde73cca3eeaee86a1750c\nSuccessfully built ibm-platform-services\nInstalling collected packages: ibm-cloud-sdk-core, typing-extensions, ibm-platform-services, qiskit-ibm-runtime\n  Attempting uninstall: ibm-cloud-sdk-core\n    Found existing installation: ibm-cloud-sdk-core 3.10.1\n    Uninstalling ibm-cloud-sdk-core-3.10.1:\n      Successfully uninstalled ibm-cloud-sdk-core-3.10.1\n  Attempting uninstall: typing-extensions\n    Found existing installation: typing-extensions 3.7.4.3\n    Uninstalling typing-extensions-3.7.4.3:\n      Successfully uninstalled typing-extensions-3.7.4.3\n\u001b[31mERROR: pip's dependency resolver does not currently take into account all the packages that are installed. This behaviour is the source of the following dependency conflicts.\nibm-watson-openscale 3.0.20 requires ibm-cloud-sdk-core==3.10.1, but you have ibm-cloud-sdk-core 3.16.0 which is incompatible.\u001b[0m\nSuccessfully installed ibm-cloud-sdk-core-3.16.0 ibm-platform-services-0.27.0 qiskit-ibm-runtime-0.6.2 typing-extensions-4.3.0\n"
                }
            ],
            "source": "!pip install -U qiskit\n!pip install -U qiskit-ibm-runtime"
        },
        {
            "cell_type": "markdown",
            "id": "e0afbae9",
            "metadata": {},
            "source": "## Account initialization"
        },
        {
            "cell_type": "markdown",
            "id": "df516fd9",
            "metadata": {},
            "source": "Before you can start using Qiskit Runtime, you need to initialize your account by calling `QiskitRuntimeService` with your IBM Cloud API key and the CRN or service name of your service instance.\n\nYou can also choose to save your credentials on disk (in the `$HOME/.qiskit/qiskit-ibm.json` file). By doing so, you only need to use `QiskitRuntimeService()` in the future to initialize your account.\n\nFor more information about account management, such as how to delete or view an account, see or import this notebook [04_account_management.ipynb](https://github.com/Qiskit/qiskit-ibm-runtime/blob/main/docs/tutorials/04_account_management.ipynb). "
        },
        {
            "cell_type": "markdown",
            "id": "8d6bb1e0",
            "metadata": {},
            "source": "<div class=\"alert alert-block alert-info\">\n<b>Note:</b> Account credentials are saved in plain text, so only do so if you are using a trusted device. \n</div>"
        },
        {
            "cell_type": "code",
            "execution_count": 2,
            "id": "233c286a",
            "metadata": {},
            "outputs": [],
            "source": "from qiskit_ibm_runtime import QiskitRuntimeService\n\nQiskitRuntimeService.save_account(\n    channel=\"ibm_cloud\",\n    token=\"\",\n    instance=\"\",\n    overwrite=True\n)\n\nservice = QiskitRuntimeService()"
        },
        {
            "cell_type": "markdown",
            "id": "b09c438b",
            "metadata": {},
            "source": "The `<IBM Cloud API key>` in the example above is your IBM Cloud API key and looks something like\n\n```\nkYgdggnD-qx5k2u0AAFUKv3ZPW_avg0eQ9sK75CCW7hw\n```\n\nThe `<IBM Cloud CRN>` is the Cloud Resource Name and looks something like\n\n```\ncrn:v1:bluemix:public:quantum-computing:us-east:a/b947c1c5a9378d64aed96696e4d76e8e:a3a7f181-35aa-42c8-94d6-7c8ed6e1a94b::\n```\n\nThe `<IBM Cloud service name>` is user-provided and defaults to something like\n```\nQuantum Services-9p\n```\nIf you choose to set `instance` to the service name, the initialization time of the `QiskitRuntimeService` is slightly higher because the required `CRN` value is internally resolved via IBM Cloud APIs."
        },
        {
            "cell_type": "markdown",
            "id": "61d9f293",
            "metadata": {},
            "source": "## Listing programs <a name='listing_program'>"
        },
        {
            "cell_type": "markdown",
            "id": "2ed6ce38",
            "metadata": {},
            "source": "There are three methods that can be used to find metadata of available programs:\n\n- `pprint_programs()`: pretty prints summary metadata of available programs\n- `programs()`: returns a list of `RuntimeProgram` instances\n- `program()`: returns a single `RuntimeProgram` instance\n\nThe metadata of a runtime program includes its ID, name, description, maximum execution time, backend requirements, input parameters, and return values. Maximum execution time is the maximum amount of time, in seconds, a program can run before being forcibly terminated."
        },
        {
            "cell_type": "markdown",
            "id": "2abfb988",
            "metadata": {},
            "source": "To print the summary metadata of the programs (by default first 20 programs are displayed):"
        },
        {
            "cell_type": "code",
            "execution_count": 3,
            "id": "a420f91c",
            "metadata": {},
            "outputs": [
                {
                    "name": "stdout",
                    "output_type": "stream",
                    "text": "==================================================\nhello-world:\n  Name: hello-world\n  Description: A sample runtime program.\n==================================================\nsampler:\n  Name: sampler\n  Description: Generates quasi-probabilities by sampling quantum circuits.\n==================================================\nestimator:\n  Name: estimator\n  Description: Calculates expectation values of quantum operators.\n"
                }
            ],
            "source": "service.pprint_programs(limit=10)"
        },
        {
            "cell_type": "markdown",
            "id": "0a5ca5f5",
            "metadata": {},
            "source": "You can use the `limit` and `skip` parameters in `pprint_programs()` and `programs()` to page through all programs. \n\nYou can pass `detailed=True` parameter to `pprint_programs()` to view all the metadata for the programs. \n\nThe program metadata, once fetched, is cached for performance reasons. But you can pass the `refresh=True` parameter  to get the latest data from the server. "
        },
        {
            "cell_type": "markdown",
            "id": "b1983145",
            "metadata": {},
            "source": "To print the metadata of the program `sampler`:"
        },
        {
            "cell_type": "code",
            "execution_count": 4,
            "id": "f8302b63",
            "metadata": {},
            "outputs": [
                {
                    "name": "stdout",
                    "output_type": "stream",
                    "text": "sampler:\n  Name: sampler\n  Description: Generates quasi-probabilities by sampling quantum circuits.\n  Creation date: 2021-10-26T14:41:57Z\n  Update date: 2022-07-19T17:21:25.407871Z\n  Max execution time: 10000\n  Backend requirements:\n    none\n  Input parameters:\n    Properties:\n        - circuit_indices:\n            Description: Indices of the circuits to evaluate.\n            Type: array\n            Required: True\n        - circuits:\n            Description: A single or list of QuantumCircuits.\n            Type: ['array', 'object']\n            Required: True\n        - parameter_values:\n            Description: A list of concrete parameters to be bound for each circuit. If specified, it must have the same length as circuit_indices.\n            Type: array\n            Required: False\n        - parameters:\n            Description: Parameters of the quantum circuits.\n            Type: array\n            Required: False\n        - resilience_settings:\n            Description: Resilience settings.\n            Type: object\n            Required: False\n        - run_options:\n            Description: A collection of key-value pairs identifying the execution options, such as shots.\n            Type: object\n            Required: False\n        - skip_transpilation:\n            Default: False\n            Description: (Deprecated) Whether to skip circuit transpilation.\n            Type: boolean\n            Required: False\n        - transpilation_settings:\n            Description: Transpilation settings.\n            Type: object\n            Required: False\n  Interim results:\n    none\n  Returns:\n    Properties:\n        - metadata:\n            Description: Additional metadata.\n            Type: array\n            Required: False\n        - quasi_dists:\n            Description: List of quasi-probabilities returned for each circuit.\n            Type: array\n            Required: False\n"
                }
            ],
            "source": "program = service.program(\"sampler\")\nprint(program)"
        },
        {
            "cell_type": "markdown",
            "id": "ec37a66c",
            "metadata": {},
            "source": "As you can see from above, the primitive `sampler` calculates the distributions generated by given circuits executed on the target backend. It takes a number of parameters, but `circuits` and `circuit_indices` are the only required parameters. When the program finishes, it returns the quasi-probabilities for each circuit."
        },
        {
            "cell_type": "markdown",
            "id": "8097db3a",
            "metadata": {},
            "source": "## Invoking a runtime program <a name='invoking_program'>"
        },
        {
            "cell_type": "markdown",
            "id": "b6d680a3",
            "metadata": {},
            "source": "You can use the [QiskitRuntimeService.run()](https://qiskit.org/documentation/partners/qiskit_ibm_runtime/stubs/qiskit_ibm_runtime.QiskitRuntimeService.html#qiskit_ibm_runtime.QiskitRuntimeService.run) method to invoke a runtime program. This method takes the following parameters:\n\n- `program_id`: ID of the program to run.\n- `inputs`: Program input parameters. These input values are passed to the runtime program.\n- `options`: Runtime options. These options control the execution environment. Currently the only available option is `backend_name`, which is optional for cloud runtime.\n- `result_decoder`: Optional class used to decode the job result."
        },
        {
            "cell_type": "markdown",
            "id": "3f9e793f",
            "metadata": {},
            "source": "Below is an example of invoking the `sampler` program."
        },
        {
            "cell_type": "markdown",
            "id": "05029932",
            "metadata": {},
            "source": "First we need to construct a circuit as the input to `sampler` using Qiskit."
        },
        {
            "cell_type": "code",
            "execution_count": 5,
            "id": "98653f07",
            "metadata": {},
            "outputs": [
                {
                    "data": {
                        "text/html": "<pre style=\"word-wrap: normal;white-space: pre;background: #fff0;line-height: 1.1;font-family: &quot;Courier New&quot;,Courier,monospace\">        \u250c\u2500\u2500\u2500\u2510\u250c\u2500\u2500\u2500\u2510          \u250c\u2500\u2500\u2500\u2510 \u2591 \u250c\u2500\u2510               \n   q_0: \u2524 X \u251c\u2524 H \u251c\u2500\u2500\u2500\u2500\u2500\u2500\u2500\u2500\u2500\u2500\u2524 H \u251c\u2500\u2591\u2500\u2524M\u251c\u2500\u2500\u2500\u2500\u2500\u2500\u2500\u2500\u2500\u2500\u2500\u2500\u2500\u2500\u2500\n        \u251c\u2500\u2500\u2500\u2524\u251c\u2500\u2500\u2500\u2524     \u250c\u2500\u2500\u2500\u2510\u2514\u2500\u252c\u2500\u2518 \u2591 \u2514\u2565\u2518\u250c\u2500\u2510            \n   q_1: \u2524 X \u251c\u2524 H \u251c\u2500\u2500\u2500\u2500\u2500\u2524 H \u251c\u2500\u2500\u25a0\u2500\u2500\u2500\u2591\u2500\u2500\u256b\u2500\u2524M\u251c\u2500\u2500\u2500\u2500\u2500\u2500\u2500\u2500\u2500\u2500\u2500\u2500\n        \u251c\u2500\u2500\u2500\u2524\u251c\u2500\u2500\u2500\u2524\u250c\u2500\u2500\u2500\u2510\u2514\u2500\u252c\u2500\u2518      \u2591  \u2551 \u2514\u2565\u2518\u250c\u2500\u2510         \n   q_2: \u2524 X \u251c\u2524 H \u251c\u2524 H \u251c\u2500\u2500\u25a0\u2500\u2500\u2500\u2500\u2500\u2500\u2500\u2500\u2591\u2500\u2500\u256b\u2500\u2500\u256b\u2500\u2524M\u251c\u2500\u2500\u2500\u2500\u2500\u2500\u2500\u2500\u2500\n        \u251c\u2500\u2500\u2500\u2524\u251c\u2500\u2500\u2500\u2524\u2514\u2500\u252c\u2500\u2518           \u2591  \u2551  \u2551 \u2514\u2565\u2518\u250c\u2500\u2510      \n   q_3: \u2524 X \u251c\u2524 H \u251c\u2500\u2500\u25a0\u2500\u2500\u2500\u2500\u25a0\u2500\u2500\u2500\u2500\u2500\u2500\u2500\u2500\u2591\u2500\u2500\u256b\u2500\u2500\u256b\u2500\u2500\u256b\u2500\u2524M\u251c\u2500\u2500\u2500\u2500\u2500\u2500\n        \u251c\u2500\u2500\u2500\u2524\u251c\u2500\u2500\u2500\u2524     \u250c\u2500\u2534\u2500\u2510      \u2591  \u2551  \u2551  \u2551 \u2514\u2565\u2518\u250c\u2500\u2510   \n   q_4: \u2524 X \u251c\u2524 H \u251c\u2500\u2500\u2500\u2500\u2500\u2524 H \u251c\u2500\u2500\u25a0\u2500\u2500\u2500\u2591\u2500\u2500\u256b\u2500\u2500\u256b\u2500\u2500\u256b\u2500\u2500\u256b\u2500\u2524M\u251c\u2500\u2500\u2500\n        \u251c\u2500\u2500\u2500\u2524\u251c\u2500\u2500\u2500\u2524     \u2514\u2500\u2500\u2500\u2518\u250c\u2500\u2534\u2500\u2510 \u2591  \u2551  \u2551  \u2551  \u2551 \u2514\u2565\u2518\u250c\u2500\u2510\n   q_5: \u2524 X \u251c\u2524 H \u251c\u2500\u2500\u2500\u2500\u2500\u2500\u2500\u2500\u2500\u2500\u2524 H \u251c\u2500\u2591\u2500\u2500\u256b\u2500\u2500\u256b\u2500\u2500\u256b\u2500\u2500\u256b\u2500\u2500\u256b\u2500\u2524M\u251c\n        \u2514\u2500\u2500\u2500\u2518\u2514\u2500\u2500\u2500\u2518          \u2514\u2500\u2500\u2500\u2518 \u2591  \u2551  \u2551  \u2551  \u2551  \u2551 \u2514\u2565\u2518\nmeas: 6/\u2550\u2550\u2550\u2550\u2550\u2550\u2550\u2550\u2550\u2550\u2550\u2550\u2550\u2550\u2550\u2550\u2550\u2550\u2550\u2550\u2550\u2550\u2550\u2550\u2550\u2550\u2550\u2550\u2550\u2569\u2550\u2550\u2569\u2550\u2550\u2569\u2550\u2550\u2569\u2550\u2550\u2569\u2550\u2550\u2569\u2550\n                                     0  1  2  3  4  5 </pre>",
                        "text/plain": "        \u250c\u2500\u2500\u2500\u2510\u250c\u2500\u2500\u2500\u2510          \u250c\u2500\u2500\u2500\u2510 \u2591 \u250c\u2500\u2510               \n   q_0: \u2524 X \u251c\u2524 H \u251c\u2500\u2500\u2500\u2500\u2500\u2500\u2500\u2500\u2500\u2500\u2524 H \u251c\u2500\u2591\u2500\u2524M\u251c\u2500\u2500\u2500\u2500\u2500\u2500\u2500\u2500\u2500\u2500\u2500\u2500\u2500\u2500\u2500\n        \u251c\u2500\u2500\u2500\u2524\u251c\u2500\u2500\u2500\u2524     \u250c\u2500\u2500\u2500\u2510\u2514\u2500\u252c\u2500\u2518 \u2591 \u2514\u2565\u2518\u250c\u2500\u2510            \n   q_1: \u2524 X \u251c\u2524 H \u251c\u2500\u2500\u2500\u2500\u2500\u2524 H \u251c\u2500\u2500\u25a0\u2500\u2500\u2500\u2591\u2500\u2500\u256b\u2500\u2524M\u251c\u2500\u2500\u2500\u2500\u2500\u2500\u2500\u2500\u2500\u2500\u2500\u2500\n        \u251c\u2500\u2500\u2500\u2524\u251c\u2500\u2500\u2500\u2524\u250c\u2500\u2500\u2500\u2510\u2514\u2500\u252c\u2500\u2518      \u2591  \u2551 \u2514\u2565\u2518\u250c\u2500\u2510         \n   q_2: \u2524 X \u251c\u2524 H \u251c\u2524 H \u251c\u2500\u2500\u25a0\u2500\u2500\u2500\u2500\u2500\u2500\u2500\u2500\u2591\u2500\u2500\u256b\u2500\u2500\u256b\u2500\u2524M\u251c\u2500\u2500\u2500\u2500\u2500\u2500\u2500\u2500\u2500\n        \u251c\u2500\u2500\u2500\u2524\u251c\u2500\u2500\u2500\u2524\u2514\u2500\u252c\u2500\u2518           \u2591  \u2551  \u2551 \u2514\u2565\u2518\u250c\u2500\u2510      \n   q_3: \u2524 X \u251c\u2524 H \u251c\u2500\u2500\u25a0\u2500\u2500\u2500\u2500\u25a0\u2500\u2500\u2500\u2500\u2500\u2500\u2500\u2500\u2591\u2500\u2500\u256b\u2500\u2500\u256b\u2500\u2500\u256b\u2500\u2524M\u251c\u2500\u2500\u2500\u2500\u2500\u2500\n        \u251c\u2500\u2500\u2500\u2524\u251c\u2500\u2500\u2500\u2524     \u250c\u2500\u2534\u2500\u2510      \u2591  \u2551  \u2551  \u2551 \u2514\u2565\u2518\u250c\u2500\u2510   \n   q_4: \u2524 X \u251c\u2524 H \u251c\u2500\u2500\u2500\u2500\u2500\u2524 H \u251c\u2500\u2500\u25a0\u2500\u2500\u2500\u2591\u2500\u2500\u256b\u2500\u2500\u256b\u2500\u2500\u256b\u2500\u2500\u256b\u2500\u2524M\u251c\u2500\u2500\u2500\n        \u251c\u2500\u2500\u2500\u2524\u251c\u2500\u2500\u2500\u2524     \u2514\u2500\u2500\u2500\u2518\u250c\u2500\u2534\u2500\u2510 \u2591  \u2551  \u2551  \u2551  \u2551 \u2514\u2565\u2518\u250c\u2500\u2510\n   q_5: \u2524 X \u251c\u2524 H \u251c\u2500\u2500\u2500\u2500\u2500\u2500\u2500\u2500\u2500\u2500\u2524 H \u251c\u2500\u2591\u2500\u2500\u256b\u2500\u2500\u256b\u2500\u2500\u256b\u2500\u2500\u256b\u2500\u2500\u256b\u2500\u2524M\u251c\n        \u2514\u2500\u2500\u2500\u2518\u2514\u2500\u2500\u2500\u2518          \u2514\u2500\u2500\u2500\u2518 \u2591  \u2551  \u2551  \u2551  \u2551  \u2551 \u2514\u2565\u2518\nmeas: 6/\u2550\u2550\u2550\u2550\u2550\u2550\u2550\u2550\u2550\u2550\u2550\u2550\u2550\u2550\u2550\u2550\u2550\u2550\u2550\u2550\u2550\u2550\u2550\u2550\u2550\u2550\u2550\u2550\u2550\u2569\u2550\u2550\u2569\u2550\u2550\u2569\u2550\u2550\u2569\u2550\u2550\u2569\u2550\u2550\u2569\u2550\n                                     0  1  2  3  4  5 "
                    },
                    "execution_count": 5,
                    "metadata": {},
                    "output_type": "execute_result"
                }
            ],
            "source": "from qiskit import QuantumCircuit\n\nN = 6\nqc = QuantumCircuit(N)\n\nqc.x(range(0, N))\nqc.h(range(0, N))\n\nfor kk in range(N // 2, 0, -1):\n    qc.ch(kk, kk - 1)\nfor kk in range(N // 2, N - 1):\n    qc.ch(kk, kk + 1)\nqc.measure_all()\nqc.draw(fold=-1)"
        },
        {
            "cell_type": "markdown",
            "id": "a5e32ca2",
            "metadata": {},
            "source": "We now use this circuit as the input to `sampler`:"
        },
        {
            "cell_type": "code",
            "execution_count": 6,
            "id": "d622e53c",
            "metadata": {},
            "outputs": [
                {
                    "name": "stdout",
                    "output_type": "stream",
                    "text": "Job ID: cblaudfmub8b8qnd7ht0\n{'quasi_dists': [{'100001': 0.015625, '000001': 0.0205078125, '110001': 0.0322265625, '100011': 0.0380859375, '111111': 0.5078125, '110000': 0.0361328125, '110011': 0.0615234375, '110111': 0.125, '000000': 0.013671875, '000111': 0.0478515625, '100111': 0.06640625, '000011': 0.0234375, '100000': 0.01171875}], 'metadata': [{'header_metadata': {}, 'shots': 1024}]}\n<IBMBackend('ibmq_qasm_simulator')>\n"
                }
            ],
            "source": "# Specify the program inputs here.\nprogram_inputs = {\n    \"circuits\": qc,\n    \"circuit_indices\": [0],\n}\n\njob = service.run(\n    program_id=\"sampler\",\n    inputs=program_inputs,\n)\n\n# Printing the job ID in case we need to retrieve it later.\nprint(f\"Job ID: {job.job_id}\")\n\n# Get the job result - this is blocking and control may not return immediately.\nresult = job.result()\nprint(result)\n# see which backend the job was executed on\nprint(job.backend) "
        },
        {
            "cell_type": "markdown",
            "id": "fa008fc4",
            "metadata": {},
            "source": "### Runtime job"
        },
        {
            "cell_type": "markdown",
            "id": "1cb7b160",
            "metadata": {},
            "source": "The `run()` method returns a [RuntimeJob](https://qiskit.org/documentation/partners/qiskit_ibm_runtime/stubs/qiskit_ibm_runtime.RuntimeJob.html#qiskit_ibm_runtime.RuntimeJob) instance, which represents the asynchronous execution instance of the program. \n\nSome of the `RuntimeJob` methods:\n\n- `status()`: Return job status.\n- `result()`: Wait for the job to finish and return the final result.\n- `cancel()`: Cancel the job.\n- `wait_for_final_state()`: Wait for the job to finish.\n- `logs()`: Return job logs.\n- `error_message()`: Returns the reason if the job failed and `None` otherwise.\n\nSome of the `RuntimeJob` attributes:\n\n- `job_id`: Unique identifier of the job.\n- `backend`: The backend where the job is run.\n- `program_id`: ID of the program the execution is for.\n\n\nRefer to the [RuntimeJob API documentation](https://qiskit.org/documentation/partners/qiskit_ibm_runtime/stubs/qiskit_ibm_runtime.RuntimeJob.html#qiskit_ibm_runtime.RuntimeJob) for a full list of methods and usage. "
        },
        {
            "cell_type": "markdown",
            "id": "present-creature",
            "metadata": {},
            "source": "<div class=\"alert alert-block alert-info\">\n<b>Note:</b> To ensure fairness, there is a maximum execution time for each Qiskit Runtime job. Refer to <a href=\"https://qiskit.org/documentation/partners/qiskit_ibm_runtime/max_time.html#qiskit-runtime-on-ibm-cloud\">this documentation</a> on what the time limit is.\n</div>"
        },
        {
            "cell_type": "markdown",
            "id": "ef34b014",
            "metadata": {},
            "source": "## Selecting a backend"
        },
        {
            "cell_type": "markdown",
            "id": "863b70a8",
            "metadata": {},
            "source": "A **backend** is a quantum device or simulator capable of running quantum circuits or pulse schedules.\n\nIn the example above, we invoked a runtime program without specifying which backend it should run on. In this case the server automatically picks the one that is the least busy. Alternatively, you can choose a specific backend to run your program. \n\nTo list all the backends you have access to:"
        },
        {
            "cell_type": "code",
            "execution_count": 7,
            "id": "fb97b17e",
            "metadata": {},
            "outputs": [
                {
                    "data": {
                        "text/plain": "[<IBMBackend('ibmq_qasm_simulator')>,\n <IBMBackend('simulator_stabilizer')>,\n <IBMBackend('simulator_mps')>,\n <IBMBackend('simulator_extended_stabilizer')>,\n <IBMBackend('simulator_statevector')>]"
                    },
                    "execution_count": 7,
                    "metadata": {},
                    "output_type": "execute_result"
                }
            ],
            "source": "service.backends()"
        },
        {
            "cell_type": "markdown",
            "id": "15b02af0",
            "metadata": {},
            "source": "The [QiskitRuntimeService.backends()](https://qiskit.org/documentation/partners/qiskit_ibm_runtime/stubs/qiskit_ibm_runtime.QiskitRuntimeService.html#qiskit_ibm_runtime.QiskitRuntimeService.backends) method also takes filters. For example, to find all real devices that have at least five qubits:"
        },
        {
            "cell_type": "code",
            "execution_count": 8,
            "id": "4fb4eba4",
            "metadata": {},
            "outputs": [
                {
                    "data": {
                        "text/plain": "[]"
                    },
                    "execution_count": 8,
                    "metadata": {},
                    "output_type": "execute_result"
                }
            ],
            "source": "service.backends(simulator=False, min_num_qubits=5)"
        },
        {
            "cell_type": "markdown",
            "id": "f83034fe",
            "metadata": {},
            "source": "[QiskitRuntimeService.backends()](https://qiskit.org/documentation/partners/qiskit_ibm_runtime/stubs/qiskit_ibm_runtime.QiskitRuntimeService.html#qiskit_ibm_runtime.QiskitRuntimeService.backends) returns a list of [IBMBackend](https://qiskit.org/documentation/partners/qiskit_ibm_runtime/stubs/qiskit_ibm_runtime.IBMBackend.html#qiskit_ibm_runtime.IBMBackend) instances. Each instance represents a particular backend. Attributes and methods of an `IBMBackend` provide more information about the backend, such as its qubit count, error rate, and status.\n\nFor more information about backends, such as commonly used attributes, see [03_backends.ipynb](https://github.com/Qiskit/qiskit-ibm-runtime/blob/main/docs/tutorials/03_backends.ipynb)."
        },
        {
            "cell_type": "markdown",
            "id": "439a73dc",
            "metadata": {},
            "source": "Once you select a backend to use, you can specify the name of the backend in the `options` parameter:"
        },
        {
            "cell_type": "code",
            "execution_count": 10,
            "id": "80df2a99",
            "metadata": {},
            "outputs": [
                {
                    "name": "stdout",
                    "output_type": "stream",
                    "text": "Job ID: cblaulmp4otpvgfohtag\n{'quasi_dists': [{'000001': 0.009765625, '100000': 0.013671875, '110000': 0.0478515625, '110011': 0.0615234375, '110001': 0.0322265625, '100011': 0.0244140625, '111111': 0.4892578125, '100001': 0.025390625, '000000': 0.0107421875, '000011': 0.037109375, '100111': 0.07421875, '000111': 0.0546875, '110111': 0.119140625}], 'metadata': [{'header_metadata': {}, 'shots': 1024}]}\n"
                }
            ],
            "source": "# Specify the program inputs here.\nprogram_inputs = {\n    \"circuits\": qc,\n    \"circuit_indices\": [0],\n}\n\n# Specify the backend name.\noptions = {\"backend_name\": \"ibmq_qasm_simulator\"}\n\njob = service.run(\n    program_id=\"sampler\",\n    options=options,\n    inputs=program_inputs,\n)\n\n# Printing the job ID in case we need to retrieve it later.\nprint(f\"Job ID: {job.job_id}\")\n\n# Get the job result - this is blocking and control may not return immediately.\nresult = job.result()\nprint(result)"
        },
        {
            "cell_type": "markdown",
            "id": "821630b0",
            "metadata": {},
            "source": "## Retrieving previously run jobs"
        },
        {
            "cell_type": "markdown",
            "id": "ed6efcd4",
            "metadata": {},
            "source": "You can use the [QiskitRuntimeService.job()](https://qiskit.org/documentation/partners/qiskit_ibm_runtime/stubs/qiskit_ibm_runtime.QiskitRuntimeService.html#qiskit_ibm_runtime.QiskitRuntimeService.job) method to retrieve a previously executed runtime job. Attributes of this [RuntimeJob](https://qiskit.org/documentation/partners/qiskit_ibm_runtime/stubs/qiskit_ibm_runtime.RuntimeJob.html#qiskit_ibm_runtime.RuntimeJob) instance can tell you about the execution:"
        },
        {
            "cell_type": "code",
            "execution_count": 11,
            "id": "4336b881",
            "metadata": {},
            "outputs": [
                {
                    "name": "stdout",
                    "output_type": "stream",
                    "text": "Job cblaulmp4otpvgfohtag is an execution instance of runtime program sampler.\nThis job ran on backend <IBMBackend('ibmq_qasm_simulator')> and had input parameters {'circuits': <qiskit.circuit.quantumcircuit.QuantumCircuit object at 0x7f3cb03dddc0>, 'circuit_indices': [0]}\n"
                }
            ],
            "source": "retrieved_job = service.job(job.job_id)\nprint(\n    f\"Job {retrieved_job.job_id} is an execution instance of runtime program {retrieved_job.program_id}.\"\n)\nprint(\n    f\"This job ran on backend {retrieved_job.backend} and had input parameters {retrieved_job.inputs}\"\n)"
        },
        {
            "cell_type": "markdown",
            "id": "5c00514e",
            "metadata": {},
            "source": "Similarly, you can use [QiskitRuntimeService.jobs()](https://qiskit.org/documentation/partners/qiskit_ibm_runtime/stubs/qiskit_ibm_runtime.QiskitRuntimeService.html#qiskit_ibm_runtime.QiskitRuntimeService.jobs) to get a list of jobs. You can specify a limit on how many jobs to return. The default limit is 10:"
        },
        {
            "cell_type": "code",
            "execution_count": 12,
            "id": "919862b8",
            "metadata": {},
            "outputs": [
                {
                    "name": "stdout",
                    "output_type": "stream",
                    "text": "cblaulmp4otpvgfohtag\n"
                }
            ],
            "source": "retrieved_jobs = service.jobs(limit=1)\nfor rjob in retrieved_jobs:\n    print(rjob.job_id)"
        },
        {
            "cell_type": "markdown",
            "id": "d6f8f1d2",
            "metadata": {},
            "source": "## Deleting a job"
        },
        {
            "cell_type": "markdown",
            "id": "81234913",
            "metadata": {},
            "source": "You can use the [QiskitRuntimeService.delete_job()](https://qiskit.org/documentation/partners/qiskit_ibm_runtime/stubs/qiskit_ibm_runtime.QiskitRuntimeService.html#qiskit_ibm_runtime.QiskitRuntimeService.delete_job) method to delete a job. You can only delete your own jobs, and this action cannot be reversed. "
        },
        {
            "cell_type": "code",
            "execution_count": 13,
            "id": "b1095852",
            "metadata": {},
            "outputs": [],
            "source": "service.delete_job(job.job_id)"
        },
        {
            "cell_type": "markdown",
            "id": "2c16af97",
            "metadata": {},
            "source": "# Next steps"
        },
        {
            "cell_type": "markdown",
            "id": "216c52c0",
            "metadata": {},
            "source": "Now that you are familiar with the basics of Qiskit Runtime, you can find additional tutorials in the [tutorials](https://github.com/Qiskit/qiskit-ibm-runtime/tree/main/docs/tutorials) directory in the public qiskit-ibm-runtime repo:\n\n- [03_backends.ipynb](https://github.com/Qiskit/qiskit-ibm-runtime/blob/main/docs/tutorials/03_backends.ipynb) describes how to find a target backend for the Qiskit Runtime program you want to invoke. \n- [04_account_management.ipynb](https://github.com/Qiskit/qiskit-ibm-runtime/blob/main/docs/tutorials/04_account_management.ipynb) describes how to save, load, and delete your account credentials on disk.\n- [qiskit_runtime_vqe_program.ipynb](https://github.com/Qiskit/qiskit-ibm-runtime/blob/main/docs/tutorials/sample_vqe_program/qiskit_runtime_vqe_program.ipynb) goes into more details on uploading a real-world program (VQE). \n\nTo import them into your account, follow these instructions about [importing notebooks from a URL](https://dataplatform.cloud.ibm.com/docs/content/wsj/analyze-data/creating-notebooks.html)."
        },
        {
            "cell_type": "code",
            "execution_count": 14,
            "id": "4d69df82",
            "metadata": {},
            "outputs": [
                {
                    "data": {
                        "text/html": "<div style='width: 100%; background-color:#d5d9e0;padding-left: 10px; padding-bottom: 10px; padding-right: 10px; padding-top: 5px'><h3>This code is a part of Qiskit</h3><p>&copy; Copyright IBM 2017, 2022.</p><p>This code is licensed under the Apache License, Version 2.0. You may<br>obtain a copy of this license in the LICENSE.txt file in the root directory<br> of this source tree or at http://www.apache.org/licenses/LICENSE-2.0.<p>Any modifications or derivative works of this code must retain this<br>copyright notice, and modified files need to carry a notice indicating<br>that they have been altered from the originals.</p></div>",
                        "text/plain": "<IPython.core.display.HTML object>"
                    },
                    "metadata": {},
                    "output_type": "display_data"
                }
            ],
            "source": "from qiskit.tools.jupyter import *\n\n%qiskit_copyright"
        }
    ],
    "metadata": {
        "kernelspec": {
            "display_name": "Python 3.9",
            "language": "python",
            "name": "python3"
        },
        "language_info": {
            "codemirror_mode": {
                "name": "ipython",
                "version": 3
            },
            "file_extension": ".py",
            "mimetype": "text/x-python",
            "name": "python",
            "nbconvert_exporter": "python",
            "pygments_lexer": "ipython3",
            "version": "3.9.12"
        }
    },
    "nbformat": 4,
    "nbformat_minor": 5
}